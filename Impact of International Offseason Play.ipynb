{
 "cells": [
  {
   "cell_type": "code",
   "execution_count": 1,
   "metadata": {
    "collapsed": true
   },
   "outputs": [],
   "source": [
    "import pandas as pd\n",
    "from scipy.stats import ttest_ind\n",
    "import matplotlib.pyplot as plt\n",
    "%matplotlib inline"
   ]
  },
  {
   "cell_type": "markdown",
   "metadata": {},
   "source": [
    "# Data gathering"
   ]
  },
  {
   "cell_type": "raw",
   "metadata": {},
   "source": [
    "1) I gathered relevant international summer play stats by copy-pasting from Wikipedia for the 2010/2014 FIBA and 2012/2016 Olympics, selecting columns I wanted, and exporting that to an Excel file called \"data.xlsx\". \n",
    "2) I added the column names for Advanced Stats I wanted to the top row of the \"data.xlsx\" file (Note: None of these new columns for Advanced Stats had their data yet). The seasons I was looking at were the summer \"season\" [Su], two seasons before [2SB], season before [SB],  season after [SA], the average of all seasons before [AVG], and the difference between all seasons before [DEL_AVG].\n",
    "3) I added columns for player injuries in the seasons I was looking at (above) in \"data.xlsx\". I manually searched around (mostly using Fox Sports + Wikipedia and reading through old articles) to get relevant player injury data and put this in a file called \"Injuries.xlsx\", which I inserted into the corresponding columns in \"data.xlsx\". I included this injury data as a binary variable (1 if they were injured, 0 if they weren't). I only counted strain-related player injuries, like soreness, tightness, and sprains. My injury criteria should be refined and criticized by experts. \n",
    "4) I went to Basketball Reference and copied all Advanced stats for players that had played in these tournaments (first column of \"data.xlsx\") into \"stats.xlsx\" - one sheet for each player. \n",
    "5) I created a duplicate of \"data.xlsx\" and called it \"data_final.xlsx\".\n",
    "6) The below script manipulates the data in \"stats.xlsx\" and exports this data to an Excel file called \"fill_in.xlsx\" \n",
    "7) I copy-pasted \"fill_in.xlsx\" to the relevant parts of \"data_final.xlsx\"."
   ]
  },
  {
   "cell_type": "code",
   "execution_count": 2,
   "metadata": {
    "collapsed": false
   },
   "outputs": [],
   "source": [
    "fill = pd.read_excel('Data.xlsx')\n",
    "stats = pd.ExcelFile('Stats.xlsx')"
   ]
  },
  {
   "cell_type": "code",
   "execution_count": 3,
   "metadata": {
    "collapsed": true
   },
   "outputs": [],
   "source": [
    "def get_init(fill, stats, x):\n",
    "    name = fill.iloc[x].Player\n",
    "    year = fill.iloc[x].Summer[:4]\n",
    "    sheet = stats.parse(name)\n",
    "    sheet['MPG'] = (sheet['MP'] / sheet['G']).apply(lambda x : round(x,2))\n",
    "    sheet = sheet[['Season', 'Age', 'G', 'MP', 'MPG', 'PER', 'TS%', 'TOV%', 'USG%', 'WS/48', 'OBPM',\n",
    "       'DBPM', 'BPM', 'VORP']]\n",
    "    return name, year, sheet"
   ]
  },
  {
   "cell_type": "code",
   "execution_count": 4,
   "metadata": {
    "collapsed": true
   },
   "outputs": [],
   "source": [
    "def get_seasons(data, num):\n",
    "    SA = data.iloc[num].tolist() + [0]\n",
    "    SB = data.iloc[num-1].tolist() + [0]\n",
    "    TwoSB = data.iloc[num-2].tolist() + [0]\n",
    "    return SA + SB + TwoSB"
   ]
  },
  {
   "cell_type": "code",
   "execution_count": 5,
   "metadata": {
    "collapsed": true
   },
   "outputs": [],
   "source": [
    "def get_avg(data, num):\n",
    "    # no diffs\n",
    "    temp = data.iloc[0:num]\n",
    "    avg = temp[temp.columns.tolist()[2:]].mean().tolist() + [0]\n",
    "    temp2 = temp[temp['Season'] != '2011-12'][temp.columns.tolist()[2:4]].copy()\n",
    "    avg[:2] = temp2.mean().tolist()\n",
    "    # diffs\n",
    "    diff = temp[temp.columns.tolist()[2:]].diff()\n",
    "    diff.dropna(inplace=True)\n",
    "    del_avg = diff.mean().tolist() + [0]\n",
    "    diff2 = temp2.diff()\n",
    "    diff2.dropna(inplace=True)\n",
    "    del_avg[:2] = diff2.mean().tolist()\n",
    "    return avg + del_avg"
   ]
  },
  {
   "cell_type": "code",
   "execution_count": 6,
   "metadata": {
    "collapsed": false
   },
   "outputs": [],
   "source": [
    "df = pd.DataFrame()\n",
    "for x in fill.index:\n",
    "    name, year, sheet = get_init(fill, stats, x)\n",
    "    num = sheet[sheet['Season'].apply(lambda x : x[:4] == year)].index[0] # still accounts for when they play for multiple teams\n",
    "                                                                          # in one year\n",
    "    list1 = get_seasons(sheet, num)\n",
    "    list2 = get_avg(sheet, num)\n",
    "    df = df.append(pd.DataFrame({name : list1 + list2}).T)\n",
    "df.columns = fill.columns[14:]\n",
    "df.to_excel('fill_in.xlsx')"
   ]
  },
  {
   "cell_type": "markdown",
   "metadata": {},
   "source": [
    "After this, I copy-pasted \"fill_in.xlsx\" into relevant parts of \"data_final.xlsx\""
   ]
  },
  {
   "cell_type": "markdown",
   "metadata": {
    "collapsed": true
   },
   "source": [
    "# Core Analysis: t-tests"
   ]
  },
  {
   "cell_type": "code",
   "execution_count": 7,
   "metadata": {
    "collapsed": false,
    "scrolled": true
   },
   "outputs": [
    {
     "data": {
      "text/plain": [
       "Index(['Player', 'Position', 'Height - feet', 'Height - in', 'Weight',\n",
       "       'Summer', 'Age_Su', 'GP_Su', 'GS_Su', 'MPG_Su', 'RPG_Su', 'APG_Su',\n",
       "       'PPG_Su', 'Injured?_Su', 'Season_SA', 'Age_SA', 'G_SA', 'MP_SA',\n",
       "       'MPG_SA', 'PER_SA', 'TS%_SA', 'TOV%_SA', 'USG%_SA', 'WS/48_SA',\n",
       "       'OBPM_SA', 'DBPM_SA', 'BPM_SA', 'VORP_SA', 'Injured?_SA', 'Season_SB',\n",
       "       'Age_SB', 'G_SB', 'MP_SB', 'MPG_SB', 'PER_SB', 'TS%_SB', 'TOV%_SB',\n",
       "       'USG%_SB', 'WS/48_SB', 'OBPM_SB', 'DBPM_SB', 'BPM_SB', 'VORP_SB',\n",
       "       'Injured?_SB', 'Season_2SB', 'Age_2SB', 'G_2SB', 'MP_2SB', 'MPG_2SB',\n",
       "       'PER_2SB', 'TS%_2SB', 'TOV%_2SB', 'USG%_2SB', 'WS/48_2SB', 'OBPM_2SB',\n",
       "       'DBPM_2SB', 'BPM_2SB', 'VORP_2SB', 'Injured?_2SB', 'G_AVG', 'MP_AVG',\n",
       "       'MPG_AVG', 'PER_AVG', 'TS%_AVG', 'TOV%_AVG', 'USG%_AVG', 'WS/48_AVG',\n",
       "       'OBPM_AVG', 'DBPM_AVG', 'BPM_AVG', 'VORP_AVG', 'Injured?', 'G_DEL_AVG',\n",
       "       'MP_DEL_AVG', 'MPG_DEL_AVG', 'PER_DEL_AVG', 'TS%_DEL_AVG',\n",
       "       'TOV%_DEL_AVG', 'USG%_DEL_AVG', 'WS/48_DEL_AVG', 'OBPM_DEL_AVG',\n",
       "       'DBPM_DEL_AVG', 'BPM_DEL_AVG', 'VORP_DEL_AVG', 'Injured?.1'],\n",
       "      dtype='object')"
      ]
     },
     "execution_count": 7,
     "metadata": {},
     "output_type": "execute_result"
    }
   ],
   "source": [
    "data = pd.read_excel('data_final.xlsx')\n",
    "data.columns"
   ]
  },
  {
   "cell_type": "code",
   "execution_count": 8,
   "metadata": {
    "collapsed": false
   },
   "outputs": [
    {
     "data": {
      "text/html": [
       "<div>\n",
       "<table border=\"1\" class=\"dataframe\">\n",
       "  <thead>\n",
       "    <tr style=\"text-align: right;\">\n",
       "      <th></th>\n",
       "      <th>Height - feet</th>\n",
       "      <th>Height - in</th>\n",
       "      <th>Weight</th>\n",
       "      <th>Age_Su</th>\n",
       "      <th>GP_Su</th>\n",
       "      <th>GS_Su</th>\n",
       "      <th>MPG_Su</th>\n",
       "      <th>RPG_Su</th>\n",
       "      <th>APG_Su</th>\n",
       "      <th>PPG_Su</th>\n",
       "      <th>...</th>\n",
       "      <th>PER_DEL_AVG</th>\n",
       "      <th>TS%_DEL_AVG</th>\n",
       "      <th>TOV%_DEL_AVG</th>\n",
       "      <th>USG%_DEL_AVG</th>\n",
       "      <th>WS/48_DEL_AVG</th>\n",
       "      <th>OBPM_DEL_AVG</th>\n",
       "      <th>DBPM_DEL_AVG</th>\n",
       "      <th>BPM_DEL_AVG</th>\n",
       "      <th>VORP_DEL_AVG</th>\n",
       "      <th>Injured?.1</th>\n",
       "    </tr>\n",
       "  </thead>\n",
       "  <tbody>\n",
       "    <tr>\n",
       "      <th>count</th>\n",
       "      <td>48.000000</td>\n",
       "      <td>48.000000</td>\n",
       "      <td>48.000000</td>\n",
       "      <td>48.000000</td>\n",
       "      <td>48.000000</td>\n",
       "      <td>48.000000</td>\n",
       "      <td>48.000000</td>\n",
       "      <td>48.000000</td>\n",
       "      <td>48.000000</td>\n",
       "      <td>48.000000</td>\n",
       "      <td>...</td>\n",
       "      <td>45.000000</td>\n",
       "      <td>45.000000</td>\n",
       "      <td>45.000000</td>\n",
       "      <td>45.000000</td>\n",
       "      <td>45.000000</td>\n",
       "      <td>45.000000</td>\n",
       "      <td>45.000000</td>\n",
       "      <td>45.000000</td>\n",
       "      <td>45.000000</td>\n",
       "      <td>48.000000</td>\n",
       "    </tr>\n",
       "    <tr>\n",
       "      <th>mean</th>\n",
       "      <td>6.041667</td>\n",
       "      <td>6.437500</td>\n",
       "      <td>224.645833</td>\n",
       "      <td>25.250000</td>\n",
       "      <td>8.291667</td>\n",
       "      <td>3.541667</td>\n",
       "      <td>16.891667</td>\n",
       "      <td>3.439583</td>\n",
       "      <td>1.850000</td>\n",
       "      <td>8.727083</td>\n",
       "      <td>...</td>\n",
       "      <td>1.328305</td>\n",
       "      <td>0.008597</td>\n",
       "      <td>-0.411652</td>\n",
       "      <td>1.065418</td>\n",
       "      <td>0.019483</td>\n",
       "      <td>0.781987</td>\n",
       "      <td>0.063066</td>\n",
       "      <td>0.842061</td>\n",
       "      <td>0.620351</td>\n",
       "      <td>0.729167</td>\n",
       "    </tr>\n",
       "    <tr>\n",
       "      <th>std</th>\n",
       "      <td>0.201941</td>\n",
       "      <td>3.221644</td>\n",
       "      <td>23.922294</td>\n",
       "      <td>3.290864</td>\n",
       "      <td>0.874176</td>\n",
       "      <td>4.109969</td>\n",
       "      <td>6.128616</td>\n",
       "      <td>1.938385</td>\n",
       "      <td>1.396957</td>\n",
       "      <td>4.688271</td>\n",
       "      <td>...</td>\n",
       "      <td>1.486329</td>\n",
       "      <td>0.016500</td>\n",
       "      <td>0.787453</td>\n",
       "      <td>1.206786</td>\n",
       "      <td>0.023982</td>\n",
       "      <td>0.837079</td>\n",
       "      <td>0.471021</td>\n",
       "      <td>0.982883</td>\n",
       "      <td>0.605146</td>\n",
       "      <td>0.449093</td>\n",
       "    </tr>\n",
       "    <tr>\n",
       "      <th>min</th>\n",
       "      <td>6.000000</td>\n",
       "      <td>0.000000</td>\n",
       "      <td>175.000000</td>\n",
       "      <td>19.000000</td>\n",
       "      <td>4.000000</td>\n",
       "      <td>0.000000</td>\n",
       "      <td>5.800000</td>\n",
       "      <td>0.600000</td>\n",
       "      <td>0.000000</td>\n",
       "      <td>1.900000</td>\n",
       "      <td>...</td>\n",
       "      <td>-1.575000</td>\n",
       "      <td>-0.022500</td>\n",
       "      <td>-2.000000</td>\n",
       "      <td>-1.050000</td>\n",
       "      <td>-0.034000</td>\n",
       "      <td>-1.000000</td>\n",
       "      <td>-2.100000</td>\n",
       "      <td>-1.125000</td>\n",
       "      <td>-0.325000</td>\n",
       "      <td>0.000000</td>\n",
       "    </tr>\n",
       "    <tr>\n",
       "      <th>25%</th>\n",
       "      <td>6.000000</td>\n",
       "      <td>3.000000</td>\n",
       "      <td>208.500000</td>\n",
       "      <td>23.000000</td>\n",
       "      <td>8.000000</td>\n",
       "      <td>0.000000</td>\n",
       "      <td>11.675000</td>\n",
       "      <td>1.975000</td>\n",
       "      <td>0.800000</td>\n",
       "      <td>4.950000</td>\n",
       "      <td>...</td>\n",
       "      <td>0.412500</td>\n",
       "      <td>0.001500</td>\n",
       "      <td>-1.000000</td>\n",
       "      <td>0.243750</td>\n",
       "      <td>0.005714</td>\n",
       "      <td>0.300000</td>\n",
       "      <td>-0.050000</td>\n",
       "      <td>0.266667</td>\n",
       "      <td>0.193750</td>\n",
       "      <td>0.000000</td>\n",
       "    </tr>\n",
       "    <tr>\n",
       "      <th>50%</th>\n",
       "      <td>6.000000</td>\n",
       "      <td>7.000000</td>\n",
       "      <td>222.500000</td>\n",
       "      <td>25.000000</td>\n",
       "      <td>8.000000</td>\n",
       "      <td>0.000000</td>\n",
       "      <td>17.400000</td>\n",
       "      <td>2.750000</td>\n",
       "      <td>1.400000</td>\n",
       "      <td>8.400000</td>\n",
       "      <td>...</td>\n",
       "      <td>1.000000</td>\n",
       "      <td>0.006364</td>\n",
       "      <td>-0.453333</td>\n",
       "      <td>0.800000</td>\n",
       "      <td>0.016667</td>\n",
       "      <td>0.614286</td>\n",
       "      <td>0.071429</td>\n",
       "      <td>0.733333</td>\n",
       "      <td>0.557143</td>\n",
       "      <td>1.000000</td>\n",
       "    </tr>\n",
       "    <tr>\n",
       "      <th>75%</th>\n",
       "      <td>6.000000</td>\n",
       "      <td>9.000000</td>\n",
       "      <td>240.000000</td>\n",
       "      <td>27.000000</td>\n",
       "      <td>9.000000</td>\n",
       "      <td>8.000000</td>\n",
       "      <td>22.000000</td>\n",
       "      <td>4.925000</td>\n",
       "      <td>2.675000</td>\n",
       "      <td>11.725000</td>\n",
       "      <td>...</td>\n",
       "      <td>2.366667</td>\n",
       "      <td>0.014625</td>\n",
       "      <td>0.025000</td>\n",
       "      <td>1.850000</td>\n",
       "      <td>0.028750</td>\n",
       "      <td>1.325000</td>\n",
       "      <td>0.300000</td>\n",
       "      <td>1.300000</td>\n",
       "      <td>0.950000</td>\n",
       "      <td>1.000000</td>\n",
       "    </tr>\n",
       "    <tr>\n",
       "      <th>max</th>\n",
       "      <td>7.000000</td>\n",
       "      <td>11.000000</td>\n",
       "      <td>280.000000</td>\n",
       "      <td>33.000000</td>\n",
       "      <td>9.000000</td>\n",
       "      <td>9.000000</td>\n",
       "      <td>28.800000</td>\n",
       "      <td>7.700000</td>\n",
       "      <td>5.600000</td>\n",
       "      <td>22.800000</td>\n",
       "      <td>...</td>\n",
       "      <td>5.200000</td>\n",
       "      <td>0.061000</td>\n",
       "      <td>1.933333</td>\n",
       "      <td>4.600000</td>\n",
       "      <td>0.099000</td>\n",
       "      <td>2.750000</td>\n",
       "      <td>1.100000</td>\n",
       "      <td>3.250000</td>\n",
       "      <td>2.700000</td>\n",
       "      <td>1.000000</td>\n",
       "    </tr>\n",
       "  </tbody>\n",
       "</table>\n",
       "<p>8 rows × 79 columns</p>\n",
       "</div>"
      ],
      "text/plain": [
       "       Height - feet  Height - in      Weight     Age_Su      GP_Su  \\\n",
       "count      48.000000    48.000000   48.000000  48.000000  48.000000   \n",
       "mean        6.041667     6.437500  224.645833  25.250000   8.291667   \n",
       "std         0.201941     3.221644   23.922294   3.290864   0.874176   \n",
       "min         6.000000     0.000000  175.000000  19.000000   4.000000   \n",
       "25%         6.000000     3.000000  208.500000  23.000000   8.000000   \n",
       "50%         6.000000     7.000000  222.500000  25.000000   8.000000   \n",
       "75%         6.000000     9.000000  240.000000  27.000000   9.000000   \n",
       "max         7.000000    11.000000  280.000000  33.000000   9.000000   \n",
       "\n",
       "           GS_Su     MPG_Su     RPG_Su     APG_Su     PPG_Su     ...      \\\n",
       "count  48.000000  48.000000  48.000000  48.000000  48.000000     ...       \n",
       "mean    3.541667  16.891667   3.439583   1.850000   8.727083     ...       \n",
       "std     4.109969   6.128616   1.938385   1.396957   4.688271     ...       \n",
       "min     0.000000   5.800000   0.600000   0.000000   1.900000     ...       \n",
       "25%     0.000000  11.675000   1.975000   0.800000   4.950000     ...       \n",
       "50%     0.000000  17.400000   2.750000   1.400000   8.400000     ...       \n",
       "75%     8.000000  22.000000   4.925000   2.675000  11.725000     ...       \n",
       "max     9.000000  28.800000   7.700000   5.600000  22.800000     ...       \n",
       "\n",
       "       PER_DEL_AVG  TS%_DEL_AVG  TOV%_DEL_AVG  USG%_DEL_AVG  WS/48_DEL_AVG  \\\n",
       "count    45.000000    45.000000     45.000000     45.000000      45.000000   \n",
       "mean      1.328305     0.008597     -0.411652      1.065418       0.019483   \n",
       "std       1.486329     0.016500      0.787453      1.206786       0.023982   \n",
       "min      -1.575000    -0.022500     -2.000000     -1.050000      -0.034000   \n",
       "25%       0.412500     0.001500     -1.000000      0.243750       0.005714   \n",
       "50%       1.000000     0.006364     -0.453333      0.800000       0.016667   \n",
       "75%       2.366667     0.014625      0.025000      1.850000       0.028750   \n",
       "max       5.200000     0.061000      1.933333      4.600000       0.099000   \n",
       "\n",
       "       OBPM_DEL_AVG  DBPM_DEL_AVG  BPM_DEL_AVG  VORP_DEL_AVG  Injured?.1  \n",
       "count     45.000000     45.000000    45.000000     45.000000   48.000000  \n",
       "mean       0.781987      0.063066     0.842061      0.620351    0.729167  \n",
       "std        0.837079      0.471021     0.982883      0.605146    0.449093  \n",
       "min       -1.000000     -2.100000    -1.125000     -0.325000    0.000000  \n",
       "25%        0.300000     -0.050000     0.266667      0.193750    0.000000  \n",
       "50%        0.614286      0.071429     0.733333      0.557143    1.000000  \n",
       "75%        1.325000      0.300000     1.300000      0.950000    1.000000  \n",
       "max        2.750000      1.100000     3.250000      2.700000    1.000000  \n",
       "\n",
       "[8 rows x 79 columns]"
      ]
     },
     "execution_count": 8,
     "metadata": {},
     "output_type": "execute_result"
    }
   ],
   "source": [
    "data.describe()"
   ]
  },
  {
   "cell_type": "markdown",
   "metadata": {},
   "source": [
    "Season_after vs. season_before"
   ]
  },
  {
   "cell_type": "code",
   "execution_count": 9,
   "metadata": {
    "collapsed": false
   },
   "outputs": [],
   "source": [
    "list1 = []\n",
    "for stat in ['PER', 'TS%', 'TOV%', 'USG%', 'WS/48', 'OBPM', 'DBPM', 'BPM', 'VORP']:\n",
    "    a = data[stat + '_SA']\n",
    "    b = data[stat + '_SB']\n",
    "    list1.append(ttest_ind(a, b)[1])\n",
    "#     print (stat + ': ' + str(ttest_ind(a, b)[1]))\n",
    "list1 = pd.DataFrame({'Comp. #1: Season after vs. Season before' : list1})"
   ]
  },
  {
   "cell_type": "markdown",
   "metadata": {},
   "source": [
    "(Season after - season before) vs. (Season before - Two seasons before)"
   ]
  },
  {
   "cell_type": "code",
   "execution_count": 10,
   "metadata": {
    "collapsed": true
   },
   "outputs": [],
   "source": [
    "data2 = data.copy()\n",
    "data2.dropna(inplace=True)\n",
    "data2.reset_index(drop=True, inplace=True)"
   ]
  },
  {
   "cell_type": "code",
   "execution_count": 11,
   "metadata": {
    "collapsed": false
   },
   "outputs": [],
   "source": [
    "list2 = []\n",
    "for stat in ['PER', 'TS%', 'TOV%', 'USG%', 'WS/48', 'OBPM', 'DBPM', 'BPM', 'VORP']:\n",
    "    a = data2[stat + '_SA'] - data2[stat + '_SB']\n",
    "    b = data2[stat + '_SB'] - data2[stat + '_2SB']\n",
    "    list2.append(ttest_ind(a, b)[1])\n",
    "#     print (stat + ': ' + str(ttest_ind(a, b)[1]))\n",
    "list2 = pd.DataFrame({'Comp #2: (Season after - Season before) vs (Season before - 2 Seasons before)' : list2})"
   ]
  },
  {
   "cell_type": "markdown",
   "metadata": {},
   "source": [
    "(Season after - season before) vs. (Average delta before)"
   ]
  },
  {
   "cell_type": "code",
   "execution_count": 12,
   "metadata": {
    "collapsed": true
   },
   "outputs": [],
   "source": [
    "data2 = data.copy()\n",
    "data2.dropna(inplace=True)\n",
    "data2.reset_index(drop=True, inplace=True)"
   ]
  },
  {
   "cell_type": "code",
   "execution_count": 13,
   "metadata": {
    "collapsed": false
   },
   "outputs": [],
   "source": [
    "list3 = []\n",
    "for stat in ['PER', 'TS%', 'TOV%', 'USG%', 'WS/48', 'OBPM', 'DBPM', 'BPM', 'VORP']:\n",
    "    a = data2[stat + '_SA'] - data2[stat + '_SB']\n",
    "    b = data2[stat + '_DEL_AVG']\n",
    "    list3.append(ttest_ind(a, b)[1])\n",
    "#     print (stat + ': ' + str(ttest_ind(a, b)[1]))\n",
    "list3 = pd.DataFrame({'Comp #3: (Season after - Season before) vs (Average of Changes of All Seasons Before)' : list3})"
   ]
  },
  {
   "cell_type": "markdown",
   "metadata": {},
   "source": [
    "Overall results"
   ]
  },
  {
   "cell_type": "code",
   "execution_count": 14,
   "metadata": {
    "collapsed": false,
    "scrolled": true
   },
   "outputs": [
    {
     "data": {
      "text/html": [
       "<div>\n",
       "<table border=\"1\" class=\"dataframe\">\n",
       "  <thead>\n",
       "    <tr style=\"text-align: right;\">\n",
       "      <th></th>\n",
       "      <th>Comp. #1: Season after vs. Season before</th>\n",
       "      <th>Comp #2: (Season after - Season before) vs (Season before - 2 Seasons before)</th>\n",
       "      <th>Comp #3: (Season after - Season before) vs (Average of Changes of All Seasons Before)</th>\n",
       "    </tr>\n",
       "  </thead>\n",
       "  <tbody>\n",
       "    <tr>\n",
       "      <th>PER</th>\n",
       "      <td>0.220654</td>\n",
       "      <td>0.810376</td>\n",
       "      <td>0.803950</td>\n",
       "    </tr>\n",
       "    <tr>\n",
       "      <th>TS%</th>\n",
       "      <td>0.617611</td>\n",
       "      <td>0.849619</td>\n",
       "      <td>0.833774</td>\n",
       "    </tr>\n",
       "    <tr>\n",
       "      <th>TOV%</th>\n",
       "      <td>0.308763</td>\n",
       "      <td>0.075446</td>\n",
       "      <td>0.486360</td>\n",
       "    </tr>\n",
       "    <tr>\n",
       "      <th>USG%</th>\n",
       "      <td>0.600118</td>\n",
       "      <td>0.694450</td>\n",
       "      <td>0.590157</td>\n",
       "    </tr>\n",
       "    <tr>\n",
       "      <th>WS/48</th>\n",
       "      <td>0.282111</td>\n",
       "      <td>0.842358</td>\n",
       "      <td>0.603179</td>\n",
       "    </tr>\n",
       "    <tr>\n",
       "      <th>OBPM</th>\n",
       "      <td>0.316614</td>\n",
       "      <td>0.822422</td>\n",
       "      <td>0.476926</td>\n",
       "    </tr>\n",
       "    <tr>\n",
       "      <th>DBPM</th>\n",
       "      <td>0.933539</td>\n",
       "      <td>0.545690</td>\n",
       "      <td>0.735585</td>\n",
       "    </tr>\n",
       "    <tr>\n",
       "      <th>BPM</th>\n",
       "      <td>0.402894</td>\n",
       "      <td>0.670781</td>\n",
       "      <td>0.444351</td>\n",
       "    </tr>\n",
       "    <tr>\n",
       "      <th>VORP</th>\n",
       "      <td>0.283801</td>\n",
       "      <td>0.834848</td>\n",
       "      <td>0.657610</td>\n",
       "    </tr>\n",
       "  </tbody>\n",
       "</table>\n",
       "</div>"
      ],
      "text/plain": [
       "       Comp. #1: Season after vs. Season before  \\\n",
       "PER                                    0.220654   \n",
       "TS%                                    0.617611   \n",
       "TOV%                                   0.308763   \n",
       "USG%                                   0.600118   \n",
       "WS/48                                  0.282111   \n",
       "OBPM                                   0.316614   \n",
       "DBPM                                   0.933539   \n",
       "BPM                                    0.402894   \n",
       "VORP                                   0.283801   \n",
       "\n",
       "       Comp #2: (Season after - Season before) vs (Season before - 2 Seasons before)  \\\n",
       "PER                                             0.810376                               \n",
       "TS%                                             0.849619                               \n",
       "TOV%                                            0.075446                               \n",
       "USG%                                            0.694450                               \n",
       "WS/48                                           0.842358                               \n",
       "OBPM                                            0.822422                               \n",
       "DBPM                                            0.545690                               \n",
       "BPM                                             0.670781                               \n",
       "VORP                                            0.834848                               \n",
       "\n",
       "       Comp #3: (Season after - Season before) vs (Average of Changes of All Seasons Before)  \n",
       "PER                                             0.803950                                      \n",
       "TS%                                             0.833774                                      \n",
       "TOV%                                            0.486360                                      \n",
       "USG%                                            0.590157                                      \n",
       "WS/48                                           0.603179                                      \n",
       "OBPM                                            0.476926                                      \n",
       "DBPM                                            0.735585                                      \n",
       "BPM                                             0.444351                                      \n",
       "VORP                                            0.657610                                      "
      ]
     },
     "execution_count": 14,
     "metadata": {},
     "output_type": "execute_result"
    }
   ],
   "source": [
    "results = pd.concat([list1, list2, list3], axis=1)\n",
    "results.index = ['PER', 'TS%', 'TOV%', 'USG%', 'WS/48', 'OBPM', 'DBPM', 'BPM', 'VORP']\n",
    "results"
   ]
  },
  {
   "cell_type": "markdown",
   "metadata": {},
   "source": [
    "# Analyzing the TOV% with p-level = 0.075"
   ]
  },
  {
   "cell_type": "markdown",
   "metadata": {},
   "source": [
    "Initial glance at the data in question"
   ]
  },
  {
   "cell_type": "code",
   "execution_count": 15,
   "metadata": {
    "collapsed": false
   },
   "outputs": [
    {
     "data": {
      "text/plain": [
       "count    45.000000\n",
       "mean     -0.662222\n",
       "std       2.271892\n",
       "min     -11.900000\n",
       "25%      -1.500000\n",
       "50%      -0.700000\n",
       "75%       0.300000\n",
       "max       3.300000\n",
       "dtype: float64"
      ]
     },
     "execution_count": 15,
     "metadata": {},
     "output_type": "execute_result"
    }
   ],
   "source": [
    "(data2['TOV%_SA'] - data2['TOV%_SB']).describe()"
   ]
  },
  {
   "cell_type": "code",
   "execution_count": 16,
   "metadata": {
    "collapsed": false
   },
   "outputs": [
    {
     "data": {
      "text/plain": [
       "<matplotlib.text.Text at 0x2cf1d48fc50>"
      ]
     },
     "execution_count": 16,
     "metadata": {},
     "output_type": "execute_result"
    },
    {
     "data": {
      "image/png": "[encoded data removed]",
      "text/plain": [
       "<matplotlib.figure.Figure at 0x2cf1d18d860>"
      ]
     },
     "metadata": {},
     "output_type": "display_data"
    }
   ],
   "source": [
    "plt.plot(data2['TOV%_SA'] - data2['TOV%_SB'])\n",
    "plt.xlabel('Player index')\n",
    "plt.ylabel('Change in TOV%')\n",
    "plt.title(\"Distribution of (season after's TOV% - season before's TOV%)\", \n",
    "          fontsize=14)"
   ]
  },
  {
   "cell_type": "code",
   "execution_count": 17,
   "metadata": {
    "collapsed": false
   },
   "outputs": [
    {
     "data": {
      "text/plain": [
       "count    45.000000\n",
       "mean      0.242222\n",
       "std       2.492488\n",
       "min      -4.600000\n",
       "25%      -1.400000\n",
       "50%       0.000000\n",
       "75%       0.900000\n",
       "max       9.000000\n",
       "dtype: float64"
      ]
     },
     "execution_count": 17,
     "metadata": {},
     "output_type": "execute_result"
    }
   ],
   "source": [
    "(data2['TOV%_SB'] - data2['TOV%_2SB']).describe()"
   ]
  },
  {
   "cell_type": "code",
   "execution_count": 18,
   "metadata": {
    "collapsed": false
   },
   "outputs": [
    {
     "data": {
      "text/plain": [
       "<matplotlib.text.Text at 0x2cf1d7822e8>"
      ]
     },
     "execution_count": 18,
     "metadata": {},
     "output_type": "execute_result"
    },
    {
     "data": {
      "image/png": "[encoded data removed]",
      "text/plain": [
       "<matplotlib.figure.Figure at 0x2cf1d72ec50>"
      ]
     },
     "metadata": {},
     "output_type": "display_data"
    }
   ],
   "source": [
    "plt.plot(data2['TOV%_SB'] - data2['TOV%_2SB'])\n",
    "plt.xlabel('Player index')\n",
    "plt.ylabel('Change in TOV%')\n",
    "plt.title(\"Distribution of (season before's TOV% - two seasons before's TOV%)\", \n",
    "          fontsize=14)"
   ]
  },
  {
   "cell_type": "raw",
   "metadata": {
    "collapsed": true
   },
   "source": [
    "Distributions seem similar around the the stationary trend excluding extrema - key diffs are in max/min/std, and std is affected by extrema\n",
    "\n",
    "Now looking at the outliers"
   ]
  },
  {
   "cell_type": "code",
   "execution_count": 19,
   "metadata": {
    "collapsed": false
   },
   "outputs": [
    {
     "data": {
      "text/plain": [
       "21   -11.9\n",
       "20    -3.1\n",
       "34    -3.1\n",
       "22    -2.6\n",
       "26    -2.2\n",
       "dtype: float64"
      ]
     },
     "execution_count": 19,
     "metadata": {},
     "output_type": "execute_result"
    }
   ],
   "source": [
    "(data2['TOV%_SA'] - data2['TOV%_SB']).sort_values().head()"
   ]
  },
  {
   "cell_type": "code",
   "execution_count": 20,
   "metadata": {
    "collapsed": false
   },
   "outputs": [
    {
     "data": {
      "text/plain": [
       "21    9.0\n",
       "43    7.7\n",
       "30    3.5\n",
       "23    3.4\n",
       "2     3.1\n",
       "dtype: float64"
      ]
     },
     "execution_count": 20,
     "metadata": {},
     "output_type": "execute_result"
    }
   ],
   "source": [
    "(data2['TOV%_SB'] - data2['TOV%_2SB']).sort_values(ascending=False).head()"
   ]
  },
  {
   "cell_type": "code",
   "execution_count": 21,
   "metadata": {
    "collapsed": false
   },
   "outputs": [
    {
     "data": {
      "text/html": [
       "<div>\n",
       "<table border=\"1\" class=\"dataframe\">\n",
       "  <thead>\n",
       "    <tr style=\"text-align: right;\">\n",
       "      <th></th>\n",
       "      <th>Player</th>\n",
       "      <th>Summer</th>\n",
       "      <th>TOV%_SA</th>\n",
       "      <th>TOV%_SB</th>\n",
       "      <th>TOV%_2SB</th>\n",
       "    </tr>\n",
       "  </thead>\n",
       "  <tbody>\n",
       "    <tr>\n",
       "      <th>21</th>\n",
       "      <td>Tyson Chandler</td>\n",
       "      <td>2010 FIBA</td>\n",
       "      <td>14.1</td>\n",
       "      <td>26</td>\n",
       "      <td>17</td>\n",
       "    </tr>\n",
       "  </tbody>\n",
       "</table>\n",
       "</div>"
      ],
      "text/plain": [
       "            Player     Summer TOV%_SA TOV%_SB TOV%_2SB\n",
       "21  Tyson Chandler  2010 FIBA    14.1      26       17"
      ]
     },
     "execution_count": 21,
     "metadata": {},
     "output_type": "execute_result"
    }
   ],
   "source": [
    "# Tyson Chandler is the main outlier for both (season after - season before) and (season before - two seasons before)\n",
    "\n",
    "pd.DataFrame(data2.iloc[21][['Player', 'Summer', 'TOV%_SA', 'TOV%_SB', 'TOV%_2SB']]).T"
   ]
  },
  {
   "cell_type": "code",
   "execution_count": 22,
   "metadata": {
    "collapsed": false
   },
   "outputs": [
    {
     "data": {
      "text/html": [
       "<div>\n",
       "<table border=\"1\" class=\"dataframe\">\n",
       "  <thead>\n",
       "    <tr style=\"text-align: right;\">\n",
       "      <th></th>\n",
       "      <th>Player</th>\n",
       "      <th>Summer</th>\n",
       "      <th>TOV%_SA</th>\n",
       "      <th>TOV%_SB</th>\n",
       "      <th>TOV%_2SB</th>\n",
       "    </tr>\n",
       "  </thead>\n",
       "  <tbody>\n",
       "    <tr>\n",
       "      <th>43</th>\n",
       "      <td>Draymond Green</td>\n",
       "      <td>2016 Olympics</td>\n",
       "      <td>19.8</td>\n",
       "      <td>21.2</td>\n",
       "      <td>13.5</td>\n",
       "    </tr>\n",
       "  </tbody>\n",
       "</table>\n",
       "</div>"
      ],
      "text/plain": [
       "            Player         Summer TOV%_SA TOV%_SB TOV%_2SB\n",
       "43  Draymond Green  2016 Olympics    19.8    21.2     13.5"
      ]
     },
     "execution_count": 22,
     "metadata": {},
     "output_type": "execute_result"
    }
   ],
   "source": [
    "# Draymond Green is the other outlier\n",
    "\n",
    "pd.DataFrame(data2.iloc[43][['Player', 'Summer', 'TOV%_SA', 'TOV%_SB', 'TOV%_2SB']]).T"
   ]
  },
  {
   "cell_type": "markdown",
   "metadata": {},
   "source": [
    "Seeing effect of removing the Tyson Chandler and Draymond Green outliers"
   ]
  },
  {
   "cell_type": "code",
   "execution_count": 23,
   "metadata": {
    "collapsed": true
   },
   "outputs": [],
   "source": [
    "data3 = data2[~((data2.Player == 'Tyson Chandler') & (data2.Summer == '2010 FIBA')) & (data2.Player != 'Draymond Green')]"
   ]
  },
  {
   "cell_type": "code",
   "execution_count": 24,
   "metadata": {
    "collapsed": false
   },
   "outputs": [
    {
     "data": {
      "text/plain": [
       "count    43.000000\n",
       "mean     -0.383721\n",
       "std       1.519231\n",
       "min      -3.100000\n",
       "25%      -1.300000\n",
       "50%      -0.500000\n",
       "75%       0.450000\n",
       "max       3.300000\n",
       "dtype: float64"
      ]
     },
     "execution_count": 24,
     "metadata": {},
     "output_type": "execute_result"
    }
   ],
   "source": [
    "(data3['TOV%_SA'] - data3['TOV%_SB']).describe()"
   ]
  },
  {
   "cell_type": "code",
   "execution_count": 25,
   "metadata": {
    "collapsed": false
   },
   "outputs": [
    {
     "data": {
      "text/plain": [
       "<matplotlib.text.Text at 0x2cf1d816438>"
      ]
     },
     "execution_count": 25,
     "metadata": {},
     "output_type": "execute_result"
    },
    {
     "data": {
      "image/png": "[encoded data removed]",
      "text/plain": [
       "<matplotlib.figure.Figure at 0x2cf1d2c2b38>"
      ]
     },
     "metadata": {},
     "output_type": "display_data"
    }
   ],
   "source": [
    "plt.plot(data3['TOV%_SA'] - data3['TOV%_SB'])\n",
    "plt.xlabel('Player index')\n",
    "plt.ylabel('Delta TOV%')\n",
    "plt.title(\"Distribution of (season after's TOV% - season before's TOV%)\")"
   ]
  },
  {
   "cell_type": "code",
   "execution_count": 26,
   "metadata": {
    "collapsed": false
   },
   "outputs": [
    {
     "data": {
      "text/plain": [
       "count    43.000000\n",
       "mean     -0.134884\n",
       "std       1.792296\n",
       "min      -4.600000\n",
       "25%      -1.400000\n",
       "50%      -0.100000\n",
       "75%       0.850000\n",
       "max       3.500000\n",
       "dtype: float64"
      ]
     },
     "execution_count": 26,
     "metadata": {},
     "output_type": "execute_result"
    }
   ],
   "source": [
    "(data3['TOV%_SB'] - data3['TOV%_2SB']).describe()"
   ]
  },
  {
   "cell_type": "code",
   "execution_count": 27,
   "metadata": {
    "collapsed": false
   },
   "outputs": [
    {
     "data": {
      "text/plain": [
       "<matplotlib.text.Text at 0x2cf1d8aa240>"
      ]
     },
     "execution_count": 27,
     "metadata": {},
     "output_type": "execute_result"
    },
    {
     "data": {
      "image/png": "[encoded data removed]",
      "text/plain": [
       "<matplotlib.figure.Figure at 0x2cf1d80aa20>"
      ]
     },
     "metadata": {},
     "output_type": "display_data"
    }
   ],
   "source": [
    "plt.plot(data3['TOV%_SB'] - data3['TOV%_2SB'])\n",
    "plt.xlabel('Player index')\n",
    "plt.ylabel('Delta TOV%')\n",
    "plt.title(\"Distribution of (season before's TOV% - two seasons before's TOV%)\")"
   ]
  },
  {
   "cell_type": "code",
   "execution_count": 28,
   "metadata": {
    "collapsed": false
   },
   "outputs": [
    {
     "data": {
      "text/plain": [
       "0.48929262784404992"
      ]
     },
     "execution_count": 28,
     "metadata": {},
     "output_type": "execute_result"
    }
   ],
   "source": [
    "ttest_ind((data3['TOV%_SA'] - data3['TOV%_SB']), (data3['TOV%_SB'] - data3['TOV%_2SB']))[1]"
   ]
  },
  {
   "cell_type": "code",
   "execution_count": 29,
   "metadata": {
    "collapsed": false
   },
   "outputs": [
    {
     "data": {
      "text/plain": [
       "0.25588473087253455"
      ]
     },
     "execution_count": 29,
     "metadata": {},
     "output_type": "execute_result"
    }
   ],
   "source": [
    "data3 = data2[~((data2.Player == 'Tyson Chandler') & (data2.Summer == '2010 FIBA'))] # just removing Tyson\n",
    "ttest_ind((data3['TOV%_SA'] - data3['TOV%_SB']), (data3['TOV%_SB'] - data3['TOV%_2SB']))[1]"
   ]
  },
  {
   "cell_type": "code",
   "execution_count": 30,
   "metadata": {
    "collapsed": true
   },
   "outputs": [],
   "source": [
    "# So, the apparent significance is due to random outliers"
   ]
  },
  {
   "cell_type": "markdown",
   "metadata": {},
   "source": [
    "# Comparing # of injuries over time"
   ]
  },
  {
   "cell_type": "code",
   "execution_count": 31,
   "metadata": {
    "collapsed": false
   },
   "outputs": [
    {
     "data": {
      "text/html": [
       "<div>\n",
       "<table border=\"1\" class=\"dataframe\">\n",
       "  <thead>\n",
       "    <tr style=\"text-align: right;\">\n",
       "      <th></th>\n",
       "      <th>Total # of Players</th>\n",
       "    </tr>\n",
       "  </thead>\n",
       "  <tbody>\n",
       "    <tr>\n",
       "      <th>Injured in any season before summer play?</th>\n",
       "      <td>35</td>\n",
       "    </tr>\n",
       "    <tr>\n",
       "      <th>Injured two seasons before summer play?</th>\n",
       "      <td>21</td>\n",
       "    </tr>\n",
       "    <tr>\n",
       "      <th>Injured the season before summer play?</th>\n",
       "      <td>22</td>\n",
       "    </tr>\n",
       "    <tr>\n",
       "      <th>Injured during summer play?</th>\n",
       "      <td>1</td>\n",
       "    </tr>\n",
       "    <tr>\n",
       "      <th>Injured the season after summer play?</th>\n",
       "      <td>31</td>\n",
       "    </tr>\n",
       "  </tbody>\n",
       "</table>\n",
       "</div>"
      ],
      "text/plain": [
       "                                          Total # of Players\n",
       "Injured in any season before summer play?                 35\n",
       "Injured two seasons before summer play?                   21\n",
       "Injured the season before summer play?                    22\n",
       "Injured during summer play?                                1\n",
       "Injured the season after summer play?                     31"
      ]
     },
     "execution_count": 31,
     "metadata": {},
     "output_type": "execute_result"
    }
   ],
   "source": [
    "injuries = pd.DataFrame(data.sum()[['Injured?', 'Injured?_2SB', 'Injured?_SB','Injured?_Su', 'Injured?_SA']])\n",
    "injuries.columns = ['Total # of Players']\n",
    "injuries.index = ['Injured in any season before summer play?', \n",
    "                  'Injured two seasons before summer play?',\n",
    "                  'Injured the season before summer play?',\n",
    "                  'Injured during summer play?',\n",
    "                  'Injured the season after summer play?'\n",
    "                 ]\n",
    "injuries"
   ]
  },
  {
   "cell_type": "code",
   "execution_count": 32,
   "metadata": {
    "collapsed": false
   },
   "outputs": [
    {
     "data": {
      "text/plain": [
       "Ttest_indResult(statistic=1.8611980643550203, pvalue=0.065841505882769005)"
      ]
     },
     "execution_count": 32,
     "metadata": {},
     "output_type": "execute_result"
    }
   ],
   "source": [
    "ttest_ind(data['Injured?_SA'], data['Injured?_SB'])"
   ]
  },
  {
   "cell_type": "code",
   "execution_count": 33,
   "metadata": {
    "collapsed": false
   },
   "outputs": [
    {
     "data": {
      "text/plain": [
       "Ttest_indResult(statistic=1.3140589260300388, pvalue=0.19202412795941154)"
      ]
     },
     "execution_count": 33,
     "metadata": {},
     "output_type": "execute_result"
    }
   ],
   "source": [
    "ttest_ind(data['Injured?_SA'] - data['Injured?_SB'], data['Injured?_SB'] - data['Injured?_2SB'])\n",
    "\n",
    "# This is interesting - maybe different players got injured"
   ]
  },
  {
   "cell_type": "code",
   "execution_count": 34,
   "metadata": {
    "collapsed": false
   },
   "outputs": [],
   "source": [
    "players_2SB = data[data['Injured?_2SB'] == 1].Player.tolist()\n",
    "players_SB = data[data['Injured?_SB'] == 1].Player.tolist()\n",
    "players_SA = data[data['Injured?_SA'] == 1].Player.tolist()"
   ]
  },
  {
   "cell_type": "code",
   "execution_count": 35,
   "metadata": {
    "collapsed": false
   },
   "outputs": [
    {
     "name": "stdout",
     "output_type": "stream",
     "text": [
      "Players injured after but not before summer play: 9\n",
      "{'Russell Westbrook', 'Paul George', 'Chauncey Billups', 'Andre Iguodala', 'Chris Paul', 'Stephen Curry', 'Kyle Lowry', 'Draymond Green', 'LeBron James'}\n",
      "\n",
      "Players injured before but not after summer play: 4\n",
      "{'James Harden', 'Andre Drummond', 'Danny Granger', 'Harrison Barnes'}\n",
      "\n",
      "Players injured one season before but not two seasons before summer play: 4\n",
      "{'Kobe Bryant', 'James Harden', 'Andre Drummond', 'Harrison Barnes'}\n",
      "\n",
      "Players injured two seasons before but not one season before summer play: 4\n",
      "{'Deron Williams', 'Andre Iguodala', 'Paul George', 'Stephen Curry'}\n"
     ]
    }
   ],
   "source": [
    "a = (set(players_SA) - set(players_SB))\n",
    "b = (set(players_SB) - set(players_SA))\n",
    "c = (set(players_SB) - set(players_2SB))\n",
    "d = (set(players_2SB) - set(players_SB))\n",
    "\n",
    "print ('Players injured after but not before summer play:', len(a))\n",
    "print(a)\n",
    "print ()\n",
    "print ('Players injured before but not after summer play:',len(b))\n",
    "print(b)\n",
    "print ()\n",
    "print ('Players injured one season before but not two seasons before summer play:',len(c))\n",
    "print (c)\n",
    "print ()\n",
    "print ('Players injured two seasons before but not one season before summer play:',len(d))\n",
    "print (d)"
   ]
  },
  {
   "cell_type": "code",
   "execution_count": null,
   "metadata": {
    "collapsed": true
   },
   "outputs": [],
   "source": []
  }
 ],
 "metadata": {
  "kernelspec": {
   "display_name": "Python 3",
   "language": "python",
   "name": "python3"
  },
  "language_info": {
   "codemirror_mode": {
    "name": "ipython",
    "version": 3
   },
   "file_extension": ".py",
   "mimetype": "text/x-python",
   "name": "python",
   "nbconvert_exporter": "python",
   "pygments_lexer": "ipython3",
   "version": "3.6.0"
  }
 },
 "nbformat": 4,
 "nbformat_minor": 2
}
